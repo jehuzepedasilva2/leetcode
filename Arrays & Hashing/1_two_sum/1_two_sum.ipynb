{
 "cells": [
  {
   "cell_type": "markdown",
   "id": "91e18376",
   "metadata": {},
   "source": [
    "# 1. Two Sum Solution(s)"
   ]
  },
  {
   "cell_type": "markdown",
   "id": "23c750e6",
   "metadata": {},
   "source": [
    "### Strategy 1 (Brute Force):\n",
    "We can check every possible pairing to in `nums` and check whether they add up to `target`. If they do we return both indices otherwise we keep checking.\n",
    "```python\n",
    "            i\n",
    "    nums = [2,7,11,15], target = 9\n",
    "    we fix i, \n",
    "               j\n",
    "    nums = [2, 7, 11, 15]\n",
    "    Check to see if there is a number j in \n",
    "    nums such that nums[i] + nums[j] = target and i != j. \n",
    "\n",
    "    in this case we return [0, 1]\n",
    "```"
   ]
  },
  {
   "cell_type": "code",
   "execution_count": 4,
   "id": "c3f54cbc",
   "metadata": {},
   "outputs": [],
   "source": [
    "class BruteForceSolution():\n",
    "  def two_sum(self, nums, target):\n",
    "    \n",
    "    for i, n in enumerate(nums):\n",
    "      for j, m in enumerate(nums):\n",
    "        if i != j and n + m == target:\n",
    "          return [i, j]\n",
    "        \n",
    "    return [-1, -1]"
   ]
  },
  {
   "cell_type": "markdown",
   "id": "74f34b49",
   "metadata": {
    "vscode": {
     "languageId": "bat"
    }
   },
   "source": [
    "### Time and Space Analysis\n",
    "Let `N` be the length of `nums`.<br>\n",
    "\n",
    "<strong>Time:</strong><br>\n",
    "Checking every possible pair is an `O(1)` operation.\n",
    "Checking every possible pair where and there are $N^2$ pairs, our time for this is `O(`$N^2$`)`.\n",
    "<br>\n",
    "\n",
    "<strong>Space:</strong><br>\n",
    "Since we don't use any additional space, the space complexity for this approach is `O(1)`.\n",
    "<br>\n",
    "\n",
    "### Time: `O(`$N^2$`)`, Space: `O(1)`\n"
   ]
  },
  {
   "cell_type": "markdown",
   "id": "ddb2a1cc",
   "metadata": {},
   "source": [
    "### Strategy 2 (Time Optimal):\n",
    "We can keep a map mapping from element $\\in$ `nums` to its respective index. At every iteration we can check whether the complement, defined as `target` - element, of that element is in the map (was seen earlier). If it was, we return that index of the current element, and the value stored at complement.\n",
    "\n",
    "```python\n",
    "    nums = [2,7,11,15], target = 9\n",
    "    we set up complements map\n",
    "    nums = [2,7,11,15] | complements = {}\n",
    "\n",
    "    iterate through nums \n",
    "            i\n",
    "    nums = [2,7,11,15] | complements = {}\n",
    "    here we check whether target - nums[i] (7) is in complements, in this \n",
    "    case it is not so we place nums[i] in complements mapping to its index\n",
    "\n",
    "              i\n",
    "    nums = [2,7,11,15] | complements = {2: 0}\n",
    "    we check if target - nums[i] (2) is in complements, in this case it is \n",
    "    so we return [0, 1]\n",
    "```"
   ]
  },
  {
   "cell_type": "code",
   "execution_count": null,
   "id": "bfa20003",
   "metadata": {},
   "outputs": [],
   "source": [
    "class OptimalSolution():\n",
    "  def two_sum(self, nums, target):\n",
    "    complements = {}\n",
    "    for i, n in enumerate(nums):\n",
    "      complement = target - n\n",
    "      \n",
    "      if complement in complements:\n",
    "        return [complements[complement], i]\n",
    "      \n",
    "      complements[n] = i\n",
    "    \n",
    "    return [-1, -1]"
   ]
  },
  {
   "cell_type": "markdown",
   "id": "1a28c0b5",
   "metadata": {},
   "source": [
    "### Time and Space Analysis\n",
    "Let `N` be the length of `nums`. <br>\n",
    "\n",
    "<strong>Time:</strong><br>\n",
    "Since we have to iterate through the list of numbers `nums` this incurs a time of `O(N)`. Assigning `complement = target - n`, checking `complement in complements`, and inserting `complements[n] = i` are all `O(1)` operations. Therefore our total time is `O(N)`.\n",
    "<br>\n",
    "\n",
    "<strong>Space</strong><br>\n",
    "Since we keep a map of the elements and their indices, in the worst case this map is of length `N` (not such pair of numbers that add up to `target`), therefore space complexity is `O(N)`.\n",
    "<br>\n",
    "\n",
    "### Time: `O(N)`, Space: `O(N)`"
   ]
  },
  {
   "cell_type": "markdown",
   "id": "086506a6",
   "metadata": {},
   "source": []
  }
 ],
 "metadata": {
  "kernelspec": {
   "display_name": "base",
   "language": "python",
   "name": "python3"
  },
  "language_info": {
   "codemirror_mode": {
    "name": "ipython",
    "version": 3
   },
   "file_extension": ".py",
   "mimetype": "text/x-python",
   "name": "python",
   "nbconvert_exporter": "python",
   "pygments_lexer": "ipython3",
   "version": "3.11.4"
  }
 },
 "nbformat": 4,
 "nbformat_minor": 5
}
