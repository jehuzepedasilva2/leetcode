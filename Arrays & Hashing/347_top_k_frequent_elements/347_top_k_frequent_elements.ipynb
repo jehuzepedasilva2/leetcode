{
 "cells": [
  {
   "cell_type": "markdown",
   "id": "edcdc394",
   "metadata": {},
   "source": [
    "# 347. Top k Frequent Elements Solution(s)"
   ]
  },
  {
   "cell_type": "markdown",
   "id": "0e32aa9c",
   "metadata": {},
   "source": [
    "### Strategy 1 (Brute Force/Initial Idea):\n",
    "We go through the list of `nums` and keep track of how many times an element appears, we then go through and try and find the `k` elements with max count.\n",
    "\n",
    "```python\n",
    "        i\n",
    "nums = [1,1,1,2,2,3] | counts = {} | k = 2\n",
    "          i\n",
    "nums = [1,1,1,2,2,3] | counts = {1: 1} | k = 2\n",
    "            i\n",
    "nums = [1,1,1,2,2,3] | counts = {1: 2} | k = 2\n",
    "              i\n",
    "nums = [1,1,1,2,2,3] | counts = {1: 3} | k = 2\n",
    "                i\n",
    "nums = [1,1,1,2,2,3] | counts = {1: 3, 2: 1} | k = 2\n",
    "                  i\n",
    "nums = [1,1,1,2,2,3] | counts = {1: 3, 2: 2} | k = 2\n",
    "                    i\n",
    "nums = [1,1,1,2,2,3] | counts = {1: 3, 2: 2, 3: 1} | k = 2\n",
    "\n",
    "when can then sort by values and return the top k\n",
    "```\n"
   ]
  },
  {
   "cell_type": "markdown",
   "id": "ba75ee0a",
   "metadata": {},
   "source": []
  },
  {
   "cell_type": "code",
   "execution_count": 16,
   "id": "9f04b4b9",
   "metadata": {},
   "outputs": [],
   "source": [
    "class BruteForceSolution():\n",
    "  def top_k_frequent_elements(self, nums, k):\n",
    "    counts = {}\n",
    "    for n in nums:\n",
    "      counts[n] = counts.get(n, 0) + 1\n",
    "    \n",
    "    sorted_counts = sorted(counts.items(), key=lambda item: item[1])\n",
    "\n",
    "    answer = []    \n",
    "    for _ in range(k):\n",
    "      answer.append(sorted_counts.pop()[0])\n",
    "    \n",
    "    return answer"
   ]
  },
  {
   "cell_type": "markdown",
   "id": "08d9486c",
   "metadata": {},
   "source": [
    "### Time and Space Analysis\n",
    "Let `N` be the length of `nums` and `K` = `k`, where `K` $\\le$ `N` in the case all elements are unique.<br>\n",
    "\n",
    "<strong>Time:</strong><br>\n",
    "Iterating through the `nums` is `O(N)`, sorting the mappings from element to count is an `O(NlogN)` operation. The last iteration to get the top `k` most frequent is `O(K)`. In total the time complexity is `O(N + NlogN + K)` $\\rightarrow$ `O(NlogN + K)` and since `K`$\\le$ `N` this reduces to `O(NlogN)`.\n",
    "<br>\n",
    "\n",
    "<strong>Space:</strong><br>\n",
    "`counts` will in the worst case contain `N` entries (if all elements are unique) so this is `O(N)` space. the the new `sorted_counts` contains the same number of elements as there are entries in `counts`, so this is also `O(N)`, answer will contain `K` elements which in the worst case is also `N`. Overall space is `O(N)`. \n",
    "<br>\n",
    "\n",
    "### Time: `O(NLogN)`, Space: `O(N)`"
   ]
  },
  {
   "cell_type": "markdown",
   "id": "fc2ac798",
   "metadata": {},
   "source": [
    "# Can we do better?"
   ]
  },
  {
   "cell_type": "markdown",
   "id": "9fc9d052",
   "metadata": {},
   "source": [
    "### Strategy 2:\n",
    "We can use an priority queue to keep track of most frequent elements, then we can just pop at the end\n",
    "```python\n",
    "        i\n",
    "nums = [1,1,1,2,2,3] | pq = [] | k = 2\n",
    "          i\n",
    "nums = [1,1,1,2,2,3] | pq = [(1, 1)] | k = 2\n",
    "            i\n",
    "nums = [1,1,1,2,2,3] | pq = [(1, 2)] | k = 2\n",
    "              i\n",
    "nums = [1,1,1,2,2,3] | pq = [(1, 3)] | k = 2\n",
    "                i\n",
    "nums = [1,1,1,2,2,3] | pq = [(1, 3), (2, 1)] | k = 2\n",
    "                  i\n",
    "nums = [1,1,1,2,2,3] | pq = [(1, 3), (2, 2)] | k = 2\n",
    "                    i\n",
    "nums = [1,1,1,2,2,3] | pq = [(1, 3), (2, 2), (3, 1)] | k = 2\n",
    "\n",
    "since these results will already be sorted, we can just pop the first k elements, in this case return [1, 2]\n",
    "```"
   ]
  },
  {
   "cell_type": "code",
   "execution_count": 24,
   "id": "13ba7f6c",
   "metadata": {},
   "outputs": [],
   "source": [
    "import heapq\n",
    "\n",
    "class BetterSolution():\n",
    "  def top_k_frequent_elements(self, nums, k):\n",
    "    \n",
    "    counts = {}\n",
    "    for n in nums:\n",
    "      counts[n] = counts.get(n, 0) + 1\n",
    "    \n",
    "    heap = [(-freq, num) for num, freq in counts.items()]  \n",
    "    heapq.heapify(heap)\n",
    "    \n",
    "    answer = []\n",
    "    for _ in range(k):\n",
    "      answer.append(heapq.heappop(heap)[0])\n",
    "    \n",
    "    return answer"
   ]
  },
  {
   "cell_type": "markdown",
   "id": "4524c75c",
   "metadata": {},
   "source": [
    "### Time and Space Analysis\n",
    "Let `N` be the length of `nums` and `K` = `k`, where `K` $\\le$ `N` in the case all elements are unique.<br>\n",
    "\n",
    "<strong>Time:</strong><br>\n",
    "We first get the `counts` which is an `O(N)` operation, we then `heapify` the entries of `counts` with a runtime of `O(N)`. we then pop the `k` most frequent elements of the `heap` which is `O(N)` in the worst case (`K` == `N`). Popping off the heap is `O(KLogN)`. Overall time complexity is `O(NLogN)` if `K` == `N`.\n",
    "<br>\n",
    "\n",
    "<strong>Space:</strong><br>\n",
    "`counts` contains `O(N)` entries, `heap` in the worst case also contains `O(N)` entries, and answer contains `O(N)` entries in the worst case. Overall space complexity os `O(N)`.\n",
    "<br>\n",
    "\n",
    "### Time: `O(NlogN)` but on average `O(KlogN)`, Space: `O(N)`"
   ]
  },
  {
   "cell_type": "markdown",
   "id": "e0424721",
   "metadata": {},
   "source": []
  }
 ],
 "metadata": {
  "kernelspec": {
   "display_name": "base",
   "language": "python",
   "name": "python3"
  },
  "language_info": {
   "codemirror_mode": {
    "name": "ipython",
    "version": 3
   },
   "file_extension": ".py",
   "mimetype": "text/x-python",
   "name": "python",
   "nbconvert_exporter": "python",
   "pygments_lexer": "ipython3",
   "version": "3.11.4"
  }
 },
 "nbformat": 4,
 "nbformat_minor": 5
}
