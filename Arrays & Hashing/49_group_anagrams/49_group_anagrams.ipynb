{
 "cells": [
  {
   "cell_type": "markdown",
   "id": "06bcdd6b",
   "metadata": {},
   "source": [
    "# 49. Group Anagrams Solution(s)"
   ]
  },
  {
   "cell_type": "markdown",
   "id": "657c7258",
   "metadata": {},
   "source": [
    "### Strategy 1 (Optimal):\n",
    "We keep track off all the letters we have already seen by making them into \"keys\" and checking if they are already in the hashmap we will use to store key $\\rightarrow$ anagrams. \n",
    "\n",
    "```python\n",
    "          i\n",
    "strs = [\"eat\",\"tea\",\"tan\",\"ate\",\"nat\",\"bat\"] | groups = {}\n",
    "                             a b c d e f g h i j k l m n o p q r s t u v w x y z\n",
    "turn it into a key -> key = [1,0,0,0,1,0,0,0,0,0,0,0,0,0,0,0,0,0,0,1,0,0,0,0,0,0]\n",
    "we check if this key exist in groups, in this case it doesn't so we add it.\n",
    "\n",
    "                i\n",
    "strs = [\"eat\",\"tea\",\"tan\",\"ate\",\"nat\",\"bat\"] | groups = {[1,...,0]: [\"eat\"]}\n",
    "                             a b c d e f g h i j k l m n o p q r s t u v w x y z\n",
    "turn it into a key -> key = [1,0,0,0,1,0,0,0,0,0,0,0,0,0,0,0,0,0,0,1,0,0,0,0,0,0]\n",
    "we check if it exist, in this case it does, so we just append the word to the value of that key\n",
    "\n",
    "                      i\n",
    "strs = [\"eat\",\"tea\",\"tan\",\"ate\",\"nat\",\"bat\"] | groups = {[1,...,0]: [\"eat\", \"tea\"]}\n",
    "                             a b c d e f g h i j k l m n o p q r s t u v w x y z\n",
    "turn it into a key -> key = [1,0,0,0,0,0,0,0,0,0,0,0,0,1,0,0,0,0,0,0,0,0,0,0,0,0]\n",
    "this key does not exist yet so we add it to groups map\n",
    "\n",
    "                            i\n",
    "strs = [\"eat\",\"tea\",\"tan\",\"ate\",\"nat\",\"bat\"] | \n",
    "groups = {[1..0]: [\"eat\", \"tea\"], [1..0]: [\"tan\"]}\n",
    "                             a b c d e f g h i j k l m n o p q r s t u v w x y z\n",
    "turn it into a key -> key = [1,0,0,0,1,0,0,0,0,0,0,0,0,0,0,0,0,0,0,1,0,0,0,0,0,0]\n",
    "this key does exist so we append this word to the values\n",
    "\n",
    "                                  i\n",
    "strs = [\"eat\",\"tea\",\"tan\",\"ate\",\"nat\",\"bat\"] | \n",
    "groups = {[1..0]: [\"eat\", \"tea\", \"ate\"], [1..0]: [\"tan\"]}\n",
    "                             a b c d e f g h i j k l m n o p q r s t u v w x y z\n",
    "turn it into a key -> key = [1,0,0,0,0,0,0,0,0,0,0,0,0,1,0,0,0,0,0,1,0,0,0,0,0,0]\n",
    "this key does exist so we append it to the values of that key\n",
    "\n",
    "                                        i\n",
    "strs = [\"eat\",\"tea\",\"tan\",\"ate\",\"nat\",\"bat\"] |\n",
    "groups = {[1..0]: [\"eat\", \"tea\", \"ate\"], [1..0]: [\"tan\", \"nat\"]}\n",
    "                             a b c d e f g h i j k l m n o p q r s t u v w x y z\n",
    "turn it into a key -> key = [1,1,0,0,0,0,0,0,0,0,0,0,0,0,0,0,0,0,0,1,0,0,0,0,0,0]\n",
    "this key does not exist so add it to groups\n",
    "\n",
    "                                             i\n",
    "strs = [\"eat\",\"tea\",\"tan\",\"ate\",\"nat\",\"bat\"] |\n",
    "groups = {[1..0]: [\"eat\", \"tea\", \"ate\"], [1..0]: [\"tan\", \"nat\"], [1..0]: [\"bat\"]}\n",
    "\n",
    "at this point we can return groups.values() as list.\n",
    "\n",
    "```"
   ]
  },
  {
   "cell_type": "code",
   "execution_count": 33,
   "id": "ea635b2b",
   "metadata": {},
   "outputs": [],
   "source": [
    "class OptimalSolution():\n",
    "  def group_anagrams(self, strs):\n",
    "    \n",
    "    def get_key(s):\n",
    "      sub_alpha = [0] * 26\n",
    "      for c in s:\n",
    "        sub_alpha[ord(c)-97] += 1\n",
    "      return str(sub_alpha)\n",
    "    \n",
    "    groups = {}\n",
    "    \n",
    "    for s in strs:\n",
    "      s_key = get_key(s)\n",
    "      if s_key in groups:\n",
    "        groups[s_key].append(s)\n",
    "        continue\n",
    "      groups[s_key] = [s]\n",
    "    \n",
    "    return list(groups.values())\n",
    "          "
   ]
  },
  {
   "cell_type": "markdown",
   "id": "f925a56d",
   "metadata": {},
   "source": [
    "### Time and Space Analysis\n",
    "Let `N` be the length of `strs` and `M` be the length of the longest word in `strs`.\n",
    "<strong>Time:</strong><br>\n",
    "We first iterate through all the words in `strs`, and for every word we must generate the a key that identifies whether it is already in `groups` or not. This incurs a runtime of `O(N * M)`. Checking to see if the key is already in groups and adding values to `groups` are a constant operation, therefore the total time is `O(N*M)`.\n",
    "<br>\n",
    "\n",
    "<strong>Space:</strong><br>\n",
    "We use an array/string as the key, these take up a constant amount of space. We use a hashmap `groups` to store the anagrams. In the worst case all the letters are unique, therefore we will have `N` keys and with `M` length words $\\rightarrow$ `O(N * M)` .\n",
    "<br>\n",
    "\n",
    "### Time: `O(N*M)`, Space: `O(N*M)`"
   ]
  },
  {
   "cell_type": "markdown",
   "id": "291aa282",
   "metadata": {},
   "source": []
  },
  {
   "cell_type": "markdown",
   "id": "119424fd",
   "metadata": {},
   "source": []
  },
  {
   "cell_type": "markdown",
   "id": "15e79954",
   "metadata": {},
   "source": []
  }
 ],
 "metadata": {
  "kernelspec": {
   "display_name": "base",
   "language": "python",
   "name": "python3"
  },
  "language_info": {
   "codemirror_mode": {
    "name": "ipython",
    "version": 3
   },
   "file_extension": ".py",
   "mimetype": "text/x-python",
   "name": "python",
   "nbconvert_exporter": "python",
   "pygments_lexer": "ipython3",
   "version": "3.11.4"
  }
 },
 "nbformat": 4,
 "nbformat_minor": 5
}
