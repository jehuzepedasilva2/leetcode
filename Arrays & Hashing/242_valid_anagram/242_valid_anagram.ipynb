{
 "cells": [
  {
   "cell_type": "markdown",
   "id": "0a9d3117",
   "metadata": {},
   "source": [
    "# 242. Valid Anagram Solution(s)"
   ]
  },
  {
   "cell_type": "markdown",
   "id": "1676661c",
   "metadata": {},
   "source": [
    "### Strategy 1 (Brute Force):\n",
    "We can sort the words by letter then compare the two"
   ]
  },
  {
   "cell_type": "code",
   "execution_count": 10,
   "id": "3c323bd3",
   "metadata": {},
   "outputs": [],
   "source": [
    "class BruteForceSolution():\n",
    "  def valid_anagram(self, s, t):\n",
    "    if len(s) != len(t):\n",
    "      return False\n",
    "    \n",
    "    s = sorted(s)\n",
    "    t = sorted(t)\n",
    "    \n",
    "    return s == t"
   ]
  },
  {
   "cell_type": "markdown",
   "id": "a7048089",
   "metadata": {},
   "source": [
    "### Time and Space Analysis\n",
    "Let `N` be the length `s` = length `t` <br>\n",
    "<strong>Note:</strong> if length `s` $\\ne$ length `t`, we can return immediately since there is no possibility `t` is an anagram of `s`.<br>\n",
    "\n",
    "<strong>Time:</strong><br>\n",
    "Since we have to sort both strings, this incurs a time of `O(2 * NlogN)`. we then have to compare each string ( == ) which is an `O(N)` operation\n",
    "<br>\n",
    "\n",
    "<strong>Space:</strong><br>\n",
    "Since sorted returns a new array with letters of `s` \\ `t` sorted, this takes up \n",
    "`O(2 * N)` space.\n",
    "\n",
    "### Time: `O(NlogN)`, Space: `O(N)`"
   ]
  },
  {
   "cell_type": "markdown",
   "id": "8ef91cbf",
   "metadata": {},
   "source": [
    "### Strategy 2 (Optimal):\n",
    "We can keep track of all the letters and go through `s` and `t`. For `s` string we increment the counter for that letter, for `t` string we subtract. If there are letters that are not `0` in our counter we return `false`, since if we all the letter counters are `0`, it means both `s` and `t` have the same number of letters and same letters\n",
    "\n",
    "```python\n",
    "s = \"anagram\", t = \"nagaram\"\n",
    "we create an array of length 26 where the ith spot represents the ith letter of the alphabet\n",
    "s = \"anagram\", t = \"nagaram\" \n",
    "         a b c d e f g h i j k l m n o p q r s t u v w x y z\n",
    "alpha = [0,0,0,0,0,0,0,0,0,0,0,0,0,0,0,0,0,0,0,0,0,0,0,0,0,0]\n",
    "after going through s = \"anagram\":\n",
    "         a b c d e f g h i j k l m n o p q r s t u v w x y z\n",
    "alpha = [3,0,0,0,0,0,1,0,0,0,0,0,1,1,0,0,0,1,0,0,0,0,0,0,0,0]\n",
    "we then go through t = \"nagaram\" and subtract the letters from alpha:\n",
    "         a b c d e f g h i j k l m n o p q r s t u v w x y z\n",
    "alpha = [0,0,0,0,0,0,0,0,0,0,0,0,0,0,0,0,0,0,0,0,0,0,0,0,0,0]\n",
    "we return whether the sum(alpha) is 0.\n",
    "```"
   ]
  },
  {
   "cell_type": "code",
   "execution_count": 27,
   "id": "93147bf2",
   "metadata": {},
   "outputs": [],
   "source": [
    "class OptimalSolution():\n",
    "  def valid_anagram(self, s, t):\n",
    "    if len(s) != len(t):\n",
    "      return False\n",
    "    \n",
    "    alpha = [0] * 26\n",
    "    \n",
    "    for cs, ct in zip(s, t):\n",
    "      # ord('a') = 97\n",
    "      alpha[ord(cs)-97] += 1\n",
    "      alpha[ord(ct)-97] -= 1\n",
    "          \n",
    "    return not any(alpha)"
   ]
  },
  {
   "cell_type": "markdown",
   "id": "17475dbc",
   "metadata": {},
   "source": [
    "### Time and Space Analysis\n",
    "Let `N` be the length `s` = length `t` <br>\n",
    "<strong>Note:</strong> if length `s` $\\ne$ length `t`, we can return immediately since there is no possibility `t` is an anagram of `s`.<br>\n",
    "\n",
    "<strong>Time:</strong><br>\n",
    "Since we have to iterate through both `s` and `t`, the time incurred from this is `O(N)`. Incrementing `alpha[i]` is an `O(1)` operation. The final return statement checks every value of `alpha` which is of constant size (26), therefore this final operation is an `O(26)` $\\rightarrow$ `O(1)`.\n",
    "<br>\n",
    "\n",
    "<strong>Space:</strong><br>\n",
    "Since we only use an constant amount of space (`alpha` of length 26), the space complexity is `O(26)` $\\rightarrow$ `O(1)`.\n",
    "\n",
    "### Time: `O(N)`, Space: `O(1)`"
   ]
  }
 ],
 "metadata": {
  "kernelspec": {
   "display_name": "base",
   "language": "python",
   "name": "python3"
  },
  "language_info": {
   "codemirror_mode": {
    "name": "ipython",
    "version": 3
   },
   "file_extension": ".py",
   "mimetype": "text/x-python",
   "name": "python",
   "nbconvert_exporter": "python",
   "pygments_lexer": "ipython3",
   "version": "3.11.4"
  }
 },
 "nbformat": 4,
 "nbformat_minor": 5
}
