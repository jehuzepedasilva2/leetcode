{
 "cells": [
  {
   "cell_type": "markdown",
   "id": "57aa23d8",
   "metadata": {},
   "source": [
    "# 271. Encode and Decode Strings"
   ]
  },
  {
   "cell_type": "code",
   "execution_count": null,
   "id": "4f332210",
   "metadata": {},
   "outputs": [
    {
     "data": {
      "text/plain": [
       "[]"
      ]
     },
     "execution_count": 9,
     "metadata": {},
     "output_type": "execute_result"
    }
   ],
   "source": [
    "class Solution:\n",
    "    def __init__(self):\n",
    "        self.is_empty_strs = False\n",
    "        \n",
    "    def encode(self, strs):\n",
    "        self.is_empty_strs = not strs\n",
    "        return \"(>)\".join(strs)\n",
    "    \n",
    "    def decode(self, s):\n",
    "        if self.is_empty_strs:\n",
    "            return []\n",
    "        return s.split(\"(>)\")"
   ]
  },
  {
   "cell_type": "markdown",
   "id": "69b71fbb",
   "metadata": {},
   "source": [
    "### Time and Space Analysis\n",
    "Let `N` be the length of `strs` and `M` be the length of the longest word in `strs`. <br>\n",
    "\n",
    "<strong>Time:</strong><br>\n",
    "For `encode` we simply join the words together concatenated by \n",
    "`(>)`. This operation is an `O(M)` operation. For decode we `split` the string which is an `O(M)` operation. Time complexity overall is an `O(M)` operation.\n",
    "<br>\n",
    "\n",
    "<strong>Space:</strong><br>\n",
    "We create a a string for `encode` which takes up `O(N*M)` space, since there are `N` strings and in the worst case they are all of length `M`. For `decode` we return a list of size `O(N)`. Overall space complexity is `O(N*M)`.  \n",
    "<br>\n",
    "\n",
    "### Time: `O(M)`, Space: `O(N*M)`"
   ]
  },
  {
   "cell_type": "markdown",
   "id": "238ddbcd",
   "metadata": {},
   "source": [
    "# Is this correct?"
   ]
  },
  {
   "cell_type": "markdown",
   "id": "6ffab077",
   "metadata": {},
   "source": [
    "The usual correct approach is to encode each string as `<length>`#`<string>` (e.g., 5#hello5#world) to avoid delimiter collision."
   ]
  },
  {
   "cell_type": "markdown",
   "id": "dc54dfaa",
   "metadata": {},
   "source": []
  }
 ],
 "metadata": {
  "kernelspec": {
   "display_name": "base",
   "language": "python",
   "name": "python3"
  },
  "language_info": {
   "codemirror_mode": {
    "name": "ipython",
    "version": 3
   },
   "file_extension": ".py",
   "mimetype": "text/x-python",
   "name": "python",
   "nbconvert_exporter": "python",
   "pygments_lexer": "ipython3",
   "version": "3.11.4"
  }
 },
 "nbformat": 4,
 "nbformat_minor": 5
}
