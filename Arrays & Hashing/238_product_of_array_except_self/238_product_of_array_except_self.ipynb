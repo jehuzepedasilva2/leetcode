{
 "cells": [
  {
   "cell_type": "markdown",
   "id": "bc829a06",
   "metadata": {},
   "source": [
    "# 238. Product of Array Except Self"
   ]
  },
  {
   "cell_type": "markdown",
   "id": "518da92f",
   "metadata": {},
   "source": [
    "### Strategy 1 (Initial Idea/Brute Force):\n",
    "We can multiply the elements that not involve the element itself. Essentially do a double for loop and fix one of the elements.\n",
    "```python\n",
    "        i\n",
    "nums = [1,2,3,4] | result = []\n",
    "          j \n",
    "  nums = [1,2,3,4] | result = [] | product = 1\n",
    "  here we see that i == j so we skip this element\n",
    "\n",
    "            j \n",
    "  nums = [1,2,3,4] | result = [] | product = 1\n",
    "  i != j, we update product\n",
    "\n",
    "              j \n",
    "  nums = [1,2,3,4] | result = [] | product = 2\n",
    "  i != j, update product\n",
    "\n",
    "                j \n",
    "  nums = [1,2,3,4] | result = [] | product = 6\n",
    "  i != j, update product\n",
    "\n",
    "                   j \n",
    "  nums = [1,2,3,4] | result = [] | product = 24\n",
    "\n",
    "  we append product to result and increment i.\n",
    "  we continue this way until i <= len(nums)\n",
    "\n",
    "```\n"
   ]
  },
  {
   "cell_type": "code",
   "execution_count": null,
   "id": "e1a64a4b",
   "metadata": {},
   "outputs": [
    {
     "data": {
      "text/plain": [
       "[0, 0, 9, 0, 0]"
      ]
     },
     "execution_count": 3,
     "metadata": {},
     "output_type": "execute_result"
    }
   ],
   "source": [
    "class BruteForceSolution():\n",
    "  def solution(self, nums):\n",
    "    result = []\n",
    "    for i, ni in enumerate(nums):\n",
    "      product = 1\n",
    "      for j, nj in enumerate(nums):\n",
    "        product *= nj if i != j else 1\n",
    "      result.append(product)\n",
    "    \n",
    "    return result\n",
    "        "
   ]
  },
  {
   "cell_type": "markdown",
   "id": "9c0e0abf",
   "metadata": {},
   "source": [
    "### Time and Space Analysis\n",
    "Let `N` be the length of nums. <br>\n",
    "\n",
    "<strong>Time:</strong><br>\n",
    "Since for every number in `nums` we must multiply the other numbers, this implies that we must iterate `N` times for every number $\\in$ `nums`. This operation is `O(N`$^2$`)`.\n",
    "<br>\n",
    "\n",
    "<strong>Space:</strong><br>\n",
    "we store the results which is of length `O(N)`. Product is constant since per the problem description; \"The product of any prefix or suffix of nums is guaranteed to fit in a 32-bit integer.\"\n",
    "<br>\n",
    "\n",
    "### Time: `O(N`$^2$`)`, Space: `O(N)`"
   ]
  },
  {
   "cell_type": "markdown",
   "id": "9b82c85a",
   "metadata": {},
   "source": [
    "# Can we do better for time complexity?"
   ]
  },
  {
   "cell_type": "markdown",
   "id": "1b7fb468",
   "metadata": {},
   "source": [
    "### Strategy 2 (Time Optimal)\n",
    "We can compute the prefix and suffix products and then for every number we just find the suffix product and prefix product that exclude the number itself and multiply the suffix and prefix. \n",
    "\n",
    "```python\n",
    "nums = [1,2,3,4]\n",
    "we find the prefix and suffix products\n",
    "\n",
    "nums = [1,2,3,4] | prefix = [1,2,6,24] | suffix = [24,24,12,4]\n",
    "\n",
    "we then go through numbers, and compute the products that exclude that number using the prefix and suffix sum\n",
    "\n",
    "        i\n",
    "nums = [1,2,3,4] prefix = [1,2,6,24] suffix = [24,24,12,4] result = []\n",
    "here we get prefix for i-1 and suffix+1 and multiply the two then append to result\n",
    "\n",
    "          i\n",
    "nums = [1,2,3,4] prefix = [1,2,6,24] suffix = [24,24,12,4] result = [24, 12]\n",
    "We get prefix for i-1 and suffix+1 and multiply the two then append to result\n",
    "\n",
    "            i\n",
    "nums = [1,2,3,4] prefix = [1,2,6,24] suffix = [24,24,12,4] result = [24,12,8]\n",
    "We get prefix for i-1 and suffix+1 and multiply the two then append to result\n",
    "\n",
    "              i\n",
    "nums = [1,2,3,4] prefix = [1,2,6,24] suffix = [24,24,12,4] result = [24,12,8, 6]\n",
    "We get prefix for i-1 and suffix+1 and multiply the two then append to result\n",
    "\n",
    "we then return the result\n",
    "```"
   ]
  },
  {
   "cell_type": "code",
   "execution_count": null,
   "id": "db9c626b",
   "metadata": {},
   "outputs": [
    {
     "data": {
      "text/plain": [
       "[24, 12, 8, 6]"
      ]
     },
     "execution_count": 32,
     "metadata": {},
     "output_type": "execute_result"
    }
   ],
   "source": [
    "class TimeOptimalSolution():\n",
    "  def leetcode_238(self, nums):\n",
    "    n = len(nums)\n",
    "    pref = [1] * (n+1)\n",
    "    suff = [1] * (n+1)\n",
    "    \n",
    "    for i in range(n):\n",
    "      pref[i+1] = pref[i] * nums[i]\n",
    "      suff[n-i-1] = suff[n-i] * nums[n-i-1]\n",
    "      \n",
    "    result = []  \n",
    "    for i in range(n):\n",
    "      result.append(pref[i] * suff[i+1])\n",
    "    \n",
    "    return result"
   ]
  },
  {
   "cell_type": "markdown",
   "id": "5727d362",
   "metadata": {},
   "source": [
    "### Time and Space complexity\n",
    "Let `N` be the length of `nums`.<br>\n",
    "\n",
    "<strong>Time:</strong><br>\n",
    "Since we iterate once through `nums` to find the prefix and suffix products. Then we iterate through `nums` to use the prefix and suffix products to calculate our result. Both of these operations are `O(N)`.\n",
    "<br>\n",
    "\n",
    "<strong>Space:</strong><br>\n",
    "We store prefix, suffix and resulting products are which are of length `N`. Therefore the space complexity is `O(N)`.\n",
    "</br>\n",
    "\n",
    "### Time: `O(N)`, Space: `O(N)`"
   ]
  },
  {
   "cell_type": "markdown",
   "id": "25385899",
   "metadata": {},
   "source": [
    "# Can we do better with space complexity?"
   ]
  },
  {
   "cell_type": "markdown",
   "id": "4e70a211",
   "metadata": {},
   "source": [
    "# Strategy 3 (Time and Space Optimal):\n",
    "We can do two passes to update out resulting array\n",
    "```python \n",
    "First Pass:\n",
    "        i\n",
    "nums = [1,2,3,4] pref=1 result=[]\n",
    "\n",
    "          i\n",
    "nums = [1,2,3,4] pref=2 result=[1]\n",
    "\n",
    "          i\n",
    "nums = [1,2,3,4] pref=2 result=[1,2]\n",
    "\n",
    "Second Pass:\n",
    "              i\n",
    "nums = [1,2,3,4] suff=1 result=[1, 2, 6, 24]\n",
    "\n",
    "            i\n",
    "nums = [1,2,3,4] suff=4 result=[1, 2, 6, 24]\n",
    "\n",
    "            i\n",
    "nums = [1,2,3,4] suff=4 result=[1, 2, 6, 24]\n",
    "\n",
    "\n",
    "```"
   ]
  },
  {
   "cell_type": "code",
   "execution_count": 34,
   "id": "e28c9fdc",
   "metadata": {},
   "outputs": [
    {
     "name": "stdout",
     "output_type": "stream",
     "text": [
      "[1, 1, 2, 6]\n"
     ]
    },
    {
     "data": {
      "text/plain": [
       "[24, 12, 8, 6]"
      ]
     },
     "execution_count": 34,
     "metadata": {},
     "output_type": "execute_result"
    }
   ],
   "source": [
    "class OptimalTimeSpaceSolution():\n",
    "  def leetcode_238(self, nums):\n",
    "    n = len(nums)\n",
    "    result = [1] * n\n",
    "    \n",
    "    # Prefix products\n",
    "    prefix = 1\n",
    "    for i in range(n):\n",
    "        result[i] = prefix\n",
    "        prefix *= nums[i]\n",
    "      \n",
    "    print(result)\n",
    "    \n",
    "    # Suffix products\n",
    "    suffix = 1\n",
    "    for i in range(n - 1, -1, -1):\n",
    "        result[i] *= suffix\n",
    "        suffix *= nums[i]\n",
    "    \n",
    "    return result\n",
    "\n",
    "nums = [1,2,3,4]\n",
    "sol = OptimalTimeSpaceSolution()\n",
    "sol.leetcode_238(nums)"
   ]
  },
  {
   "cell_type": "code",
   "execution_count": null,
   "id": "d460c5df",
   "metadata": {},
   "outputs": [],
   "source": []
  }
 ],
 "metadata": {
  "kernelspec": {
   "display_name": "base",
   "language": "python",
   "name": "python3"
  },
  "language_info": {
   "codemirror_mode": {
    "name": "ipython",
    "version": 3
   },
   "file_extension": ".py",
   "mimetype": "text/x-python",
   "name": "python",
   "nbconvert_exporter": "python",
   "pygments_lexer": "ipython3",
   "version": "3.11.4"
  }
 },
 "nbformat": 4,
 "nbformat_minor": 5
}
