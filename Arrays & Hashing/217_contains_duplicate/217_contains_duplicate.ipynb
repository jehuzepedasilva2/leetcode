{
 "cells": [
  {
   "cell_type": "markdown",
   "id": "eb258d75",
   "metadata": {},
   "source": [
    "# 217. Contains Duplicate Solution(s)"
   ]
  },
  {
   "cell_type": "markdown",
   "id": "2f577bdb",
   "metadata": {},
   "source": [
    "### Strategy 1 (Brute Force):\n",
    "We can check every element against every other element in `nums`. \n",
    "  - for each $\\textsf{e}_i$ in `nums`\n",
    "    - for each $\\textsf{e}_j$ in `nums` where `i` $\\ne$ `j`\n",
    "      - if $\\textsf{e}_i$ = $\\textsf{e}_j$ then return `true`\n",
    "  - return `false` if no duplicates were found"
   ]
  },
  {
   "cell_type": "code",
   "execution_count": 10,
   "id": "ea5ebb78",
   "metadata": {},
   "outputs": [
    {
     "name": "stdout",
     "output_type": "stream",
     "text": [
      "False\n"
     ]
    }
   ],
   "source": [
    "class BruteForceSolution():\n",
    "  def contains_duplicates(self, nums):\n",
    "    \n",
    "    for i, n in enumerate(nums):\n",
    "      for j, m in enumerate(nums):\n",
    "        if i != j and n == m:\n",
    "          return True\n",
    "        \n",
    "    return False"
   ]
  },
  {
   "cell_type": "markdown",
   "id": "f31144fd",
   "metadata": {},
   "source": [
    "### Time and Space Analysis\n",
    "Let `N` be the length of `nums`. <br>\n",
    "\n",
    "<strong>Time:</strong>\n",
    "<br>\n",
    "Since we check every possible pair, and there are $\\textsf{N}^2$ pairs, our time is  `O(`$\\textsf{N}^2$`)`.\n",
    "<br>\n",
    "\n",
    "<strong>Space:</strong><br>\n",
    "Because we don't use extra memory space is `O(1)`.\n",
    "\n",
    "#### Time: `O(`$\\textsf{N}^2$`)`, Space: `O(1)`"
   ]
  },
  {
   "cell_type": "markdown",
   "id": "8093cc66",
   "metadata": {},
   "source": [
    "### Strategy 2 (Time Optimal):\n",
    "\n",
    "We can use a set and for every number in `nums` we check if its in already in the `set`, if it is we return `true` otherwise we add it to the set, and continue checking. \n",
    "\n",
    "```python\n",
    "        i\n",
    "nums = [1, 2, 3, 1] | set = (1) 1 is not in the set, so we add it\n",
    "           i\n",
    "nums = [1, 2, 3, 1] | set = (1, 2) 2 is not in the set so we add it\n",
    "              i\n",
    "nums = [1, 2, 3, 1] | set = (1, 2, 3) 3 is not in the set so we add it\n",
    "                 i\n",
    "nums = [1, 2, 3, 1] | set = (1, 2, 3) 1 is in the set so we return true\n",
    "```\n",
    "If at the end we have not found duplicates, we return `false`"
   ]
  },
  {
   "cell_type": "code",
   "execution_count": 11,
   "id": "24bbf7b9",
   "metadata": {},
   "outputs": [],
   "source": [
    "class TimeOptimalSolution():\n",
    "  def contains_duplicates(self, nums):\n",
    "    \n",
    "    nums_set = set()\n",
    "    \n",
    "    for n in nums:\n",
    "      if n in nums_set:\n",
    "        return True\n",
    "      nums_set.add(n)\n",
    "      \n",
    "    return False"
   ]
  },
  {
   "cell_type": "markdown",
   "id": "beca5297",
   "metadata": {},
   "source": [
    "### Time and Space Analysis\n",
    "Let `N` be the length of `nums`. <br>\n",
    "Let `M` be the number of unique elements in `nums`.\n",
    "  - Note: `M` $\\le$ `N`\n",
    "\n",
    "<strong>Time:</strong>\n",
    "<br>\n",
    "We must iterate the length of `nums` so our time is `O(N)`.\n",
    "  - for each element in `nums` we check if its in the `set`, which is an `O(1)` operation\n",
    "  - we add the element to the `set`, which again is an `O(1)` operation  \n",
    "\n",
    "In the worst case all elements are unique and we never return `true` after checking if the element is in the `set`.\n",
    "<br>\n",
    "\n",
    "<strong>Space:</strong><br>\n",
    "Because we keep track of all unique elements in a `set`, there our space is `O(M)` where `M` $\\le$ `N`. \n",
    "\n",
    "#### Time: `O(N)`, Space: `O(M)` where `M` $\\le$ `N`\n"
   ]
  },
  {
   "cell_type": "markdown",
   "id": "e007596b",
   "metadata": {},
   "source": [
    "# Can we do better with our space complexity?"
   ]
  },
  {
   "cell_type": "markdown",
   "id": "7bf042e2",
   "metadata": {
    "vscode": {
     "languageId": "javascript"
    }
   },
   "source": [
    "### Strategy 3 (Space and Time Optimal):\n",
    "It depends. We cannot do better with space complexity if we want to maintain an `O(N)` runtime where `N` = `len(nums)`. If giving up the time is a valid trade off, we can sort `nums`, then check adjacent spots. \n",
    "\n",
    "```python\n",
    "nums = [1, 2, 3, 1] => sort(nums) => nums = [1, 1, 2, 3, 1]\n",
    "           i | we start i at index 1 and check the i-1 spot\n",
    "nums = [1, 1, 2, 3] | if nums[i-1] = nums[i] we return true since there are duplicates, \n",
    "other wise we keep iterating through nums.\n",
    "in this case we return true\n",
    "```"
   ]
  },
  {
   "cell_type": "code",
   "execution_count": 19,
   "id": "243e3e7f",
   "metadata": {},
   "outputs": [],
   "source": [
    "class SpaceAndTimeOptimalSolution():\n",
    "  def contains_duplicate(self, nums):\n",
    "    \n",
    "    nums.sort();\n",
    "        \n",
    "    for i in range(1, len(nums)):\n",
    "      if nums[i-1] == nums[i]:\n",
    "        return True\n",
    "    \n",
    "    return False"
   ]
  },
  {
   "cell_type": "markdown",
   "id": "1c53f7b5",
   "metadata": {},
   "source": [
    "### Time and Space Analysis\n",
    "Let `N` be the length of `nums`. <br>\n",
    "\n",
    "<strong>Time:</strong>\n",
    "<br>\n",
    "We must sort  `nums` which is an `O(NlogN)` operation. <br>\n",
    "We must iterate the length of `nums` so our time is `O(N)` (worst case $\\forall$ e $\\in$ `num`, e is unique).\n",
    "  - for each element in `nums` we check if the previous number is the same as the current element which is an `O(1)` operation.  \n",
    "    - if the element is the same, we return `true` early\n",
    "    - otherwise we continue checking\n",
    "  - we return false if we don't find any duplicates <br>\n",
    "\n",
    "Time: `O(NlogN + N)` $\\rightarrow$ `O(NlogN)`\n",
    "<br>\n",
    "\n",
    "<strong>Space:</strong><br>\n",
    "Because we don't use extra memory (sort was done in place) space is `O(1)`.\n",
    "\n",
    "#### Time: `O(NlogN)`, Space: `O(1)`"
   ]
  },
  {
   "cell_type": "markdown",
   "id": "d35b93f5",
   "metadata": {},
   "source": []
  }
 ],
 "metadata": {
  "kernelspec": {
   "display_name": "base",
   "language": "python",
   "name": "python3"
  },
  "language_info": {
   "codemirror_mode": {
    "name": "ipython",
    "version": 3
   },
   "file_extension": ".py",
   "mimetype": "text/x-python",
   "name": "python",
   "nbconvert_exporter": "python",
   "pygments_lexer": "ipython3",
   "version": "3.11.4"
  }
 },
 "nbformat": 4,
 "nbformat_minor": 5
}
